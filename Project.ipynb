{
  "cells": [
    {
      "cell_type": "code",
      "execution_count": 4,
      "metadata": {
        "id": "a6D6Q7vLxYVz"
      },
      "outputs": [],
      "source": [
        "import pandas as pd\n",
        "import numpy as np"
      ]
    },
    {
      "cell_type": "code",
      "execution_count": 5,
      "metadata": {
        "colab": {
          "base_uri": "https://localhost:8080/",
          "height": 498
        },
        "id": "-P7632BRy-Oq",
        "outputId": "b7f6946e-0d58-405c-dc9e-3446d441e84d"
      },
      "outputs": [
        {
          "data": {
            "text/plain": [
              "(2312944, 24)"
            ]
          },
          "execution_count": 5,
          "metadata": {},
          "output_type": "execute_result"
        }
      ],
      "source": [
        "df = pd.read_csv(\"Google-Playstore.csv\")\n",
        "df.head()\n",
        "df.shape"
      ]
    },
    {
      "cell_type": "code",
      "execution_count": 6,
      "metadata": {
        "colab": {
          "base_uri": "https://localhost:8080/",
          "height": 0
        },
        "id": "1SUd4XC1zPv0",
        "outputId": "365fd0c9-9efe-4d63-e6fc-8a9866c4bfda"
      },
      "outputs": [
        {
          "name": "stdout",
          "output_type": "stream",
          "text": [
            "<class 'pandas.core.frame.DataFrame'>\n",
            "RangeIndex: 2312944 entries, 0 to 2312943\n",
            "Data columns (total 24 columns):\n",
            " #   Column             Dtype  \n",
            "---  ------             -----  \n",
            " 0   App Name           object \n",
            " 1   App Id             object \n",
            " 2   Category           object \n",
            " 3   Rating             float64\n",
            " 4   Rating Count       float64\n",
            " 5   Installs           object \n",
            " 6   Minimum Installs   float64\n",
            " 7   Maximum Installs   int64  \n",
            " 8   Free               bool   \n",
            " 9   Price              float64\n",
            " 10  Currency           object \n",
            " 11  Size               object \n",
            " 12  Minimum Android    object \n",
            " 13  Developer Id       object \n",
            " 14  Developer Website  object \n",
            " 15  Developer Email    object \n",
            " 16  Released           object \n",
            " 17  Last Updated       object \n",
            " 18  Content Rating     object \n",
            " 19  Privacy Policy     object \n",
            " 20  Ad Supported       bool   \n",
            " 21  In App Purchases   bool   \n",
            " 22  Editors Choice     bool   \n",
            " 23  Scraped Time       object \n",
            "dtypes: bool(4), float64(4), int64(1), object(15)\n",
            "memory usage: 361.8+ MB\n"
          ]
        },
        {
          "data": {
            "text/plain": [
              "(2312944, 24)"
            ]
          },
          "execution_count": 6,
          "metadata": {},
          "output_type": "execute_result"
        }
      ],
      "source": [
        "df.info()\n",
        "df.shape"
      ]
    },
    {
      "cell_type": "code",
      "execution_count": 7,
      "metadata": {
        "colab": {
          "base_uri": "https://localhost:8080/",
          "height": 0
        },
        "id": "WpzF1nw9WPBH",
        "outputId": "1899e136-e275-429a-d3a6-a2f3f2d9f9b4"
      },
      "outputs": [
        {
          "data": {
            "text/plain": [
              "Index(['App Name', 'App Id', 'Category', 'Rating', 'Rating Count', 'Installs',\n",
              "       'Minimum Installs', 'Maximum Installs', 'Free', 'Price', 'Currency',\n",
              "       'Size', 'Minimum Android', 'Developer Id', 'Developer Website',\n",
              "       'Developer Email', 'Released', 'Last Updated', 'Content Rating',\n",
              "       'Privacy Policy', 'Ad Supported', 'In App Purchases', 'Editors Choice',\n",
              "       'Scraped Time'],\n",
              "      dtype='object')"
            ]
          },
          "execution_count": 7,
          "metadata": {},
          "output_type": "execute_result"
        }
      ],
      "source": [
        "df.columns"
      ]
    },
    {
      "cell_type": "code",
      "execution_count": null,
      "metadata": {},
      "outputs": [],
      "source": []
    },
    {
      "cell_type": "code",
      "execution_count": 8,
      "metadata": {
        "colab": {
          "base_uri": "https://localhost:8080/",
          "height": 836
        },
        "id": "9zvGtheK19Ec",
        "outputId": "3caec575-d4f8-44e5-c4f5-6ef761eca0e3"
      },
      "outputs": [
        {
          "data": {
            "text/plain": [
              "App Name                  2\n",
              "App Id                    0\n",
              "Category                  0\n",
              "Rating                22883\n",
              "Rating Count          22883\n",
              "Installs                107\n",
              "Minimum Installs        107\n",
              "Maximum Installs          0\n",
              "Free                      0\n",
              "Price                     0\n",
              "Currency                135\n",
              "Size                    196\n",
              "Minimum Android        6530\n",
              "Developer Id             33\n",
              "Developer Website    760835\n",
              "Developer Email          31\n",
              "Released              71053\n",
              "Last Updated              0\n",
              "Content Rating            0\n",
              "Privacy Policy       420953\n",
              "Ad Supported              0\n",
              "In App Purchases          0\n",
              "Editors Choice            0\n",
              "Scraped Time              0\n",
              "dtype: int64"
            ]
          },
          "execution_count": 8,
          "metadata": {},
          "output_type": "execute_result"
        }
      ],
      "source": [
        "df.isnull().sum()"
      ]
    },
    {
      "cell_type": "code",
      "execution_count": 9,
      "metadata": {
        "colab": {
          "base_uri": "https://localhost:8080/",
          "height": 836
        },
        "id": "9bFPQ7Qf237E",
        "outputId": "c7dac473-48eb-4441-a50d-8328be4923a9"
      },
      "outputs": [
        {
          "data": {
            "text/plain": [
              "Developer Website    32.894657\n",
              "Privacy Policy       18.199879\n",
              "Released              3.071972\n",
              "Rating                0.989345\n",
              "Rating Count          0.989345\n",
              "Minimum Android       0.282324\n",
              "Size                  0.008474\n",
              "Currency              0.005837\n",
              "Installs              0.004626\n",
              "Minimum Installs      0.004626\n",
              "Developer Id          0.001427\n",
              "Developer Email       0.001340\n",
              "App Name              0.000086\n",
              "App Id                0.000000\n",
              "Price                 0.000000\n",
              "Free                  0.000000\n",
              "Maximum Installs      0.000000\n",
              "Last Updated          0.000000\n",
              "Content Rating        0.000000\n",
              "Category              0.000000\n",
              "Ad Supported          0.000000\n",
              "In App Purchases      0.000000\n",
              "Editors Choice        0.000000\n",
              "Scraped Time          0.000000\n",
              "dtype: float64"
            ]
          },
          "execution_count": 9,
          "metadata": {},
          "output_type": "execute_result"
        }
      ],
      "source": [
        "missing_percentage = (df.isnull().sum().sort_values(ascending = False)/len(df))*100\n",
        "missing_percentage"
      ]
    },
    {
      "cell_type": "code",
      "execution_count": 10,
      "metadata": {
        "id": "ya0iXfuV6qo9"
      },
      "outputs": [],
      "source": [
        "# Remove the unusal columns\n",
        "df.drop(['Developer Website', 'Privacy Policy','Developer Id','Developer Website','Developer Email','Scraped Time'], axis=1, inplace=True)"
      ]
    },
    {
      "cell_type": "code",
      "execution_count": 11,
      "metadata": {
        "id": "8A37r_Pr6w4v"
      },
      "outputs": [],
      "source": [
        "#less na\n",
        "df.dropna(subset=['Size', 'Currency', 'Installs', 'Minimum Installs', 'App Name' ], inplace=True)"
      ]
    },
    {
      "cell_type": "code",
      "execution_count": 12,
      "metadata": {
        "colab": {
          "base_uri": "https://localhost:8080/",
          "height": 0
        },
        "id": "8JdnF0I77GJi",
        "outputId": "8187dac1-6cda-4c29-d74a-8145ccb8d824"
      },
      "outputs": [
        {
          "data": {
            "text/plain": [
              "True"
            ]
          },
          "execution_count": 12,
          "metadata": {},
          "output_type": "execute_result"
        }
      ],
      "source": [
        "df['App Name'].duplicated().any()"
      ]
    },
    {
      "cell_type": "code",
      "execution_count": 13,
      "metadata": {
        "colab": {
          "base_uri": "https://localhost:8080/",
          "height": 489
        },
        "id": "1QhOcvQ6_3jY",
        "outputId": "4483d880-97df-4762-9cab-443f66a01ddf"
      },
      "outputs": [
        {
          "data": {
            "text/plain": [
              "Tic Tac Toe                       382\n",
              "Calculator                        261\n",
              "Flashlight                        256\n",
              "BMI Calculator                    201\n",
              "Age Calculator                    190\n",
              "                                 ... \n",
              "Medcem Checklist                    1\n",
              "Beautiful Clock Live Wallpaper      1\n",
              "Verben mit Präpositionen 2020       1\n",
              "Greenbrier FUMC                     1\n",
              "Biliyor Musun - Sonsuz Yarış        1\n",
              "Name: App Name, Length: 2177656, dtype: int64"
            ]
          },
          "execution_count": 13,
          "metadata": {},
          "output_type": "execute_result"
        }
      ],
      "source": [
        "df['App Name'].value_counts()"
      ]
    },
    {
      "cell_type": "code",
      "execution_count": 14,
      "metadata": {
        "colab": {
          "base_uri": "https://localhost:8080/",
          "height": 808
        },
        "id": "QCQC66yp_4si",
        "outputId": "24b436f0-73a4-41a3-99a3-5ccf26b07a9b"
      },
      "outputs": [
        {
          "data": {
            "text/html": [
              "<div>\n",
              "<style scoped>\n",
              "    .dataframe tbody tr th:only-of-type {\n",
              "        vertical-align: middle;\n",
              "    }\n",
              "\n",
              "    .dataframe tbody tr th {\n",
              "        vertical-align: top;\n",
              "    }\n",
              "\n",
              "    .dataframe thead th {\n",
              "        text-align: right;\n",
              "    }\n",
              "</style>\n",
              "<table border=\"1\" class=\"dataframe\">\n",
              "  <thead>\n",
              "    <tr style=\"text-align: right;\">\n",
              "      <th></th>\n",
              "      <th>App Name</th>\n",
              "      <th>App Id</th>\n",
              "      <th>Category</th>\n",
              "      <th>Rating</th>\n",
              "      <th>Rating Count</th>\n",
              "      <th>Installs</th>\n",
              "      <th>Minimum Installs</th>\n",
              "      <th>Maximum Installs</th>\n",
              "      <th>Free</th>\n",
              "      <th>Price</th>\n",
              "      <th>Currency</th>\n",
              "      <th>Size</th>\n",
              "      <th>Minimum Android</th>\n",
              "      <th>Released</th>\n",
              "      <th>Last Updated</th>\n",
              "      <th>Content Rating</th>\n",
              "      <th>Ad Supported</th>\n",
              "      <th>In App Purchases</th>\n",
              "      <th>Editors Choice</th>\n",
              "    </tr>\n",
              "  </thead>\n",
              "  <tbody>\n",
              "    <tr>\n",
              "      <th>3918</th>\n",
              "      <td>Tic Tac Toe</td>\n",
              "      <td>com.dev.atte.tic_tac_toe</td>\n",
              "      <td>Puzzle</td>\n",
              "      <td>0.0</td>\n",
              "      <td>0.0</td>\n",
              "      <td>10+</td>\n",
              "      <td>10.0</td>\n",
              "      <td>30</td>\n",
              "      <td>True</td>\n",
              "      <td>0.0</td>\n",
              "      <td>USD</td>\n",
              "      <td>3.4M</td>\n",
              "      <td>4.0 and up</td>\n",
              "      <td>May 18, 2018</td>\n",
              "      <td>May 18, 2018</td>\n",
              "      <td>Everyone</td>\n",
              "      <td>True</td>\n",
              "      <td>False</td>\n",
              "      <td>False</td>\n",
              "    </tr>\n",
              "    <tr>\n",
              "      <th>13758</th>\n",
              "      <td>Tic Tac Toe</td>\n",
              "      <td>com.md.tictactoe</td>\n",
              "      <td>Board</td>\n",
              "      <td>0.0</td>\n",
              "      <td>0.0</td>\n",
              "      <td>10+</td>\n",
              "      <td>10.0</td>\n",
              "      <td>31</td>\n",
              "      <td>True</td>\n",
              "      <td>0.0</td>\n",
              "      <td>USD</td>\n",
              "      <td>34M</td>\n",
              "      <td>4.3 and up</td>\n",
              "      <td>Nov 2, 2020</td>\n",
              "      <td>Nov 18, 2020</td>\n",
              "      <td>Everyone</td>\n",
              "      <td>True</td>\n",
              "      <td>False</td>\n",
              "      <td>False</td>\n",
              "    </tr>\n",
              "    <tr>\n",
              "      <th>25351</th>\n",
              "      <td>Tic Tac Toe</td>\n",
              "      <td>com.sthirumuru.tictactoenew</td>\n",
              "      <td>Board</td>\n",
              "      <td>4.2</td>\n",
              "      <td>11.0</td>\n",
              "      <td>5,000+</td>\n",
              "      <td>5000.0</td>\n",
              "      <td>6379</td>\n",
              "      <td>True</td>\n",
              "      <td>0.0</td>\n",
              "      <td>USD</td>\n",
              "      <td>7.4M</td>\n",
              "      <td>7.0 and up</td>\n",
              "      <td>Apr 13, 2021</td>\n",
              "      <td>Jun 03, 2021</td>\n",
              "      <td>Everyone</td>\n",
              "      <td>True</td>\n",
              "      <td>False</td>\n",
              "      <td>False</td>\n",
              "    </tr>\n",
              "    <tr>\n",
              "      <th>28142</th>\n",
              "      <td>Tic Tac Toe</td>\n",
              "      <td>com.fsk00x.TicTacToe</td>\n",
              "      <td>Board</td>\n",
              "      <td>0.0</td>\n",
              "      <td>0.0</td>\n",
              "      <td>500+</td>\n",
              "      <td>500.0</td>\n",
              "      <td>922</td>\n",
              "      <td>True</td>\n",
              "      <td>0.0</td>\n",
              "      <td>USD</td>\n",
              "      <td>8.6M</td>\n",
              "      <td>4.1 and up</td>\n",
              "      <td>Feb 13, 2020</td>\n",
              "      <td>Feb 13, 2020</td>\n",
              "      <td>Everyone</td>\n",
              "      <td>True</td>\n",
              "      <td>False</td>\n",
              "      <td>False</td>\n",
              "    </tr>\n",
              "    <tr>\n",
              "      <th>30962</th>\n",
              "      <td>Tic Tac Toe</td>\n",
              "      <td>net.snatchdreams.tictactoe</td>\n",
              "      <td>Puzzle</td>\n",
              "      <td>0.0</td>\n",
              "      <td>0.0</td>\n",
              "      <td>10+</td>\n",
              "      <td>10.0</td>\n",
              "      <td>38</td>\n",
              "      <td>True</td>\n",
              "      <td>0.0</td>\n",
              "      <td>USD</td>\n",
              "      <td>927k</td>\n",
              "      <td>4.0 and up</td>\n",
              "      <td>Jul 16, 2017</td>\n",
              "      <td>Oct 16, 2019</td>\n",
              "      <td>Everyone</td>\n",
              "      <td>True</td>\n",
              "      <td>False</td>\n",
              "      <td>False</td>\n",
              "    </tr>\n",
              "    <tr>\n",
              "      <th>...</th>\n",
              "      <td>...</td>\n",
              "      <td>...</td>\n",
              "      <td>...</td>\n",
              "      <td>...</td>\n",
              "      <td>...</td>\n",
              "      <td>...</td>\n",
              "      <td>...</td>\n",
              "      <td>...</td>\n",
              "      <td>...</td>\n",
              "      <td>...</td>\n",
              "      <td>...</td>\n",
              "      <td>...</td>\n",
              "      <td>...</td>\n",
              "      <td>...</td>\n",
              "      <td>...</td>\n",
              "      <td>...</td>\n",
              "      <td>...</td>\n",
              "      <td>...</td>\n",
              "      <td>...</td>\n",
              "    </tr>\n",
              "    <tr>\n",
              "      <th>2272773</th>\n",
              "      <td>Tic Tac Toe</td>\n",
              "      <td>com.tictactoe.MobileAppsPro</td>\n",
              "      <td>Board</td>\n",
              "      <td>3.8</td>\n",
              "      <td>9269.0</td>\n",
              "      <td>500,000+</td>\n",
              "      <td>500000.0</td>\n",
              "      <td>800662</td>\n",
              "      <td>True</td>\n",
              "      <td>0.0</td>\n",
              "      <td>USD</td>\n",
              "      <td>2.3M</td>\n",
              "      <td>2.3 and up</td>\n",
              "      <td>Jan 9, 2015</td>\n",
              "      <td>May 20, 2015</td>\n",
              "      <td>Everyone</td>\n",
              "      <td>True</td>\n",
              "      <td>False</td>\n",
              "      <td>False</td>\n",
              "    </tr>\n",
              "    <tr>\n",
              "      <th>2281376</th>\n",
              "      <td>Tic Tac Toe</td>\n",
              "      <td>com.erjainam.tictactoe.release</td>\n",
              "      <td>Board</td>\n",
              "      <td>0.0</td>\n",
              "      <td>0.0</td>\n",
              "      <td>50+</td>\n",
              "      <td>50.0</td>\n",
              "      <td>50</td>\n",
              "      <td>True</td>\n",
              "      <td>0.0</td>\n",
              "      <td>USD</td>\n",
              "      <td>3.5M</td>\n",
              "      <td>5.0 and up</td>\n",
              "      <td>Sep 2, 2018</td>\n",
              "      <td>Sep 02, 2018</td>\n",
              "      <td>Everyone</td>\n",
              "      <td>True</td>\n",
              "      <td>False</td>\n",
              "      <td>False</td>\n",
              "    </tr>\n",
              "    <tr>\n",
              "      <th>2282023</th>\n",
              "      <td>Tic Tac Toe</td>\n",
              "      <td>com.swapworld.tic_tac_toe</td>\n",
              "      <td>Board</td>\n",
              "      <td>4.7</td>\n",
              "      <td>7.0</td>\n",
              "      <td>10+</td>\n",
              "      <td>10.0</td>\n",
              "      <td>34</td>\n",
              "      <td>True</td>\n",
              "      <td>0.0</td>\n",
              "      <td>USD</td>\n",
              "      <td>5.3M</td>\n",
              "      <td>4.1 and up</td>\n",
              "      <td>Sep 4, 2019</td>\n",
              "      <td>Sep 17, 2019</td>\n",
              "      <td>Everyone</td>\n",
              "      <td>False</td>\n",
              "      <td>False</td>\n",
              "      <td>False</td>\n",
              "    </tr>\n",
              "    <tr>\n",
              "      <th>2299121</th>\n",
              "      <td>Tic Tac Toe</td>\n",
              "      <td>com.infuse.tictactoe</td>\n",
              "      <td>Board</td>\n",
              "      <td>4.8</td>\n",
              "      <td>20.0</td>\n",
              "      <td>100+</td>\n",
              "      <td>100.0</td>\n",
              "      <td>462</td>\n",
              "      <td>True</td>\n",
              "      <td>0.0</td>\n",
              "      <td>USD</td>\n",
              "      <td>2.1M</td>\n",
              "      <td>2.2 and up</td>\n",
              "      <td>Jan 18, 2015</td>\n",
              "      <td>Jan 18, 2015</td>\n",
              "      <td>Everyone</td>\n",
              "      <td>True</td>\n",
              "      <td>False</td>\n",
              "      <td>False</td>\n",
              "    </tr>\n",
              "    <tr>\n",
              "      <th>2310375</th>\n",
              "      <td>Tic Tac Toe</td>\n",
              "      <td>com.justmailtoavi.avinashk.threet</td>\n",
              "      <td>Puzzle</td>\n",
              "      <td>4.7</td>\n",
              "      <td>10.0</td>\n",
              "      <td>100+</td>\n",
              "      <td>100.0</td>\n",
              "      <td>173</td>\n",
              "      <td>True</td>\n",
              "      <td>0.0</td>\n",
              "      <td>USD</td>\n",
              "      <td>1.7M</td>\n",
              "      <td>4.4 and up</td>\n",
              "      <td>Mar 30, 2016</td>\n",
              "      <td>Apr 01, 2016</td>\n",
              "      <td>Everyone</td>\n",
              "      <td>False</td>\n",
              "      <td>False</td>\n",
              "      <td>False</td>\n",
              "    </tr>\n",
              "  </tbody>\n",
              "</table>\n",
              "<p>382 rows × 19 columns</p>\n",
              "</div>"
            ],
            "text/plain": [
              "            App Name                             App Id Category  Rating  \\\n",
              "3918     Tic Tac Toe           com.dev.atte.tic_tac_toe   Puzzle     0.0   \n",
              "13758    Tic Tac Toe                   com.md.tictactoe    Board     0.0   \n",
              "25351    Tic Tac Toe        com.sthirumuru.tictactoenew    Board     4.2   \n",
              "28142    Tic Tac Toe               com.fsk00x.TicTacToe    Board     0.0   \n",
              "30962    Tic Tac Toe         net.snatchdreams.tictactoe   Puzzle     0.0   \n",
              "...              ...                                ...      ...     ...   \n",
              "2272773  Tic Tac Toe        com.tictactoe.MobileAppsPro    Board     3.8   \n",
              "2281376  Tic Tac Toe     com.erjainam.tictactoe.release    Board     0.0   \n",
              "2282023  Tic Tac Toe          com.swapworld.tic_tac_toe    Board     4.7   \n",
              "2299121  Tic Tac Toe               com.infuse.tictactoe    Board     4.8   \n",
              "2310375  Tic Tac Toe  com.justmailtoavi.avinashk.threet   Puzzle     4.7   \n",
              "\n",
              "         Rating Count  Installs  Minimum Installs  Maximum Installs  Free  \\\n",
              "3918              0.0       10+              10.0                30  True   \n",
              "13758             0.0       10+              10.0                31  True   \n",
              "25351            11.0    5,000+            5000.0              6379  True   \n",
              "28142             0.0      500+             500.0               922  True   \n",
              "30962             0.0       10+              10.0                38  True   \n",
              "...               ...       ...               ...               ...   ...   \n",
              "2272773        9269.0  500,000+          500000.0            800662  True   \n",
              "2281376           0.0       50+              50.0                50  True   \n",
              "2282023           7.0       10+              10.0                34  True   \n",
              "2299121          20.0      100+             100.0               462  True   \n",
              "2310375          10.0      100+             100.0               173  True   \n",
              "\n",
              "         Price Currency  Size Minimum Android      Released  Last Updated  \\\n",
              "3918       0.0      USD  3.4M      4.0 and up  May 18, 2018  May 18, 2018   \n",
              "13758      0.0      USD   34M      4.3 and up   Nov 2, 2020  Nov 18, 2020   \n",
              "25351      0.0      USD  7.4M      7.0 and up  Apr 13, 2021  Jun 03, 2021   \n",
              "28142      0.0      USD  8.6M      4.1 and up  Feb 13, 2020  Feb 13, 2020   \n",
              "30962      0.0      USD  927k      4.0 and up  Jul 16, 2017  Oct 16, 2019   \n",
              "...        ...      ...   ...             ...           ...           ...   \n",
              "2272773    0.0      USD  2.3M      2.3 and up   Jan 9, 2015  May 20, 2015   \n",
              "2281376    0.0      USD  3.5M      5.0 and up   Sep 2, 2018  Sep 02, 2018   \n",
              "2282023    0.0      USD  5.3M      4.1 and up   Sep 4, 2019  Sep 17, 2019   \n",
              "2299121    0.0      USD  2.1M      2.2 and up  Jan 18, 2015  Jan 18, 2015   \n",
              "2310375    0.0      USD  1.7M      4.4 and up  Mar 30, 2016  Apr 01, 2016   \n",
              "\n",
              "        Content Rating  Ad Supported  In App Purchases  Editors Choice  \n",
              "3918          Everyone          True             False           False  \n",
              "13758         Everyone          True             False           False  \n",
              "25351         Everyone          True             False           False  \n",
              "28142         Everyone          True             False           False  \n",
              "30962         Everyone          True             False           False  \n",
              "...                ...           ...               ...             ...  \n",
              "2272773       Everyone          True             False           False  \n",
              "2281376       Everyone          True             False           False  \n",
              "2282023       Everyone         False             False           False  \n",
              "2299121       Everyone          True             False           False  \n",
              "2310375       Everyone         False             False           False  \n",
              "\n",
              "[382 rows x 19 columns]"
            ]
          },
          "execution_count": 14,
          "metadata": {},
          "output_type": "execute_result"
        }
      ],
      "source": [
        "df[df['App Name'] == 'Tic Tac Toe']"
      ]
    },
    {
      "cell_type": "code",
      "execution_count": 15,
      "metadata": {
        "colab": {
          "base_uri": "https://localhost:8080/",
          "height": 0
        },
        "id": "RwqdoPbD_9j2",
        "outputId": "a13a9f0b-7240-4f89-f7eb-c75c0ec9bd2b"
      },
      "outputs": [
        {
          "data": {
            "text/plain": [
              "array(['10+', '5,000+', '50+', '100+', '1,000+', '500+', '50,000+',\n",
              "       '10,000+', '1+', '500,000+', '100,000+', '5+', '10,000,000+',\n",
              "       '1,000,000+', '5,000,000+', '0+', '100,000,000+', '50,000,000+',\n",
              "       '1,000,000,000+', '500,000,000+', '5,000,000,000+',\n",
              "       '10,000,000,000+'], dtype=object)"
            ]
          },
          "execution_count": 15,
          "metadata": {},
          "output_type": "execute_result"
        }
      ],
      "source": [
        "df['Installs'].unique()"
      ]
    },
    {
      "cell_type": "code",
      "execution_count": 16,
      "metadata": {
        "colab": {
          "base_uri": "https://localhost:8080/",
          "height": 0
        },
        "id": "YwTbFwSCAG4P",
        "outputId": "835b22e0-85fc-4c97-9cec-8148d79a523c"
      },
      "outputs": [
        {
          "data": {
            "text/plain": [
              "array([         10,        5000,          50,         100,        1000,\n",
              "               500,       50000,       10000,           1,      500000,\n",
              "            100000,           5,    10000000,     1000000,     5000000,\n",
              "                 0,   100000000,    50000000,  1000000000,   500000000,\n",
              "        5000000000, 10000000000], dtype=int64)"
            ]
          },
          "execution_count": 16,
          "metadata": {},
          "output_type": "execute_result"
        }
      ],
      "source": [
        "df['Installs'] = df['Installs'].apply(lambda x: x.replace('+', ''))\n",
        "df['Installs'] = df['Installs'].apply(lambda x: x.replace(',', ''))\n",
        "df['Installs'] = df['Installs'].astype(np.int64)\n",
        "df['Installs'].unique()"
      ]
    },
    {
      "cell_type": "code",
      "execution_count": 17,
      "metadata": {
        "colab": {
          "base_uri": "https://localhost:8080/",
          "height": 0
        },
        "id": "ktf3pj15ARyJ",
        "outputId": "70e02518-4119-4741-a11d-05794e2f269c"
      },
      "outputs": [
        {
          "data": {
            "text/plain": [
              "array(['10M', '2.9M', '3.7M', ..., '405M', '3.2k', '512M'], dtype=object)"
            ]
          },
          "execution_count": 17,
          "metadata": {},
          "output_type": "execute_result"
        }
      ],
      "source": [
        "df['Size'].unique()"
      ]
    },
    {
      "cell_type": "code",
      "execution_count": 18,
      "metadata": {},
      "outputs": [
        {
          "data": {
            "text/plain": [
              "array([0. , 4.4, 5. , 4.5, 2. , 4.7, 4.9, 3.9, 3.7, 4.2, 3.4, 3.8, 4.6,\n",
              "       4.1, 2.5, 2.3, 2.1, 2.7, 4.3, 3.1, 4.8, 3.3, 4. , 2.4, 3.2, 3.6,\n",
              "       2.6, nan, 1.5, 3.5, 2.9, 1.3, 2.8, 3. , 2.2, 1.8, 1.4, 1.2, 1.9,\n",
              "       1.7, 1.6, 1. , 1.1])"
            ]
          },
          "execution_count": 18,
          "metadata": {},
          "output_type": "execute_result"
        }
      ],
      "source": [
        "df['Rating'].unique()"
      ]
    },
    {
      "cell_type": "code",
      "execution_count": 19,
      "metadata": {
        "id": "JxbaTZyGAWAZ"
      },
      "outputs": [],
      "source": [
        "def convert_to_mb(size):\n",
        "    if isinstance(size, str):\n",
        "        # Remove commas from the string\n",
        "        size = size.replace(',', '')\n",
        "\n",
        "        if 'k' in size:\n",
        "            # Remove 'k' and convert to MB (1 MB = 1024 KB)\n",
        "            size = float(size.replace('k', '')) / 1024\n",
        "        elif 'M' in size:\n",
        "            # Remove 'M' (already in MB)\n",
        "            size = float(size.replace('M', ''))\n",
        "        elif 'Varies with device' in size:\n",
        "            return np.nan\n",
        "\n",
        "    return size"
      ]
    },
    {
      "cell_type": "code",
      "execution_count": 20,
      "metadata": {
        "id": "kcdSCbUVDKqm"
      },
      "outputs": [],
      "source": [
        "df['Size'] = df['Size'].apply(convert_to_mb)\n",
        "# Rename the column 'Size' to 'Size_in_Mb'\n",
        "df.rename(columns={'Size': 'Size_in_Mb'}, inplace=True)\n",
        "df['Size_in_Mb'] = pd.to_numeric(df['Size_in_Mb'], errors='coerce')\n",
        "df['Size_in_Mb'] = df['Size_in_Mb'].fillna(df['Size_in_Mb'].mean())"
      ]
    },
    {
      "cell_type": "code",
      "execution_count": 21,
      "metadata": {
        "id": "piIXpIP7BDwF"
      },
      "outputs": [],
      "source": [
        "# mode representing the most frequent date, is a suitable choice for categorical date data.\n",
        "released_mode = df['Released'].mode()[0]\n",
        "df['Released'] = df['Released'].fillna(released_mode)"
      ]
    },
    {
      "cell_type": "code",
      "execution_count": 22,
      "metadata": {
        "id": "CeTk8XSOBEl1"
      },
      "outputs": [],
      "source": [
        "#considering the middle value to match the existing data pattern. This method balances extreme values\n",
        "df['Rating'] = df['Rating'].fillna(df['Rating'].median())\n",
        "df['Rating Count'] = df['Rating Count'].fillna(df['Rating Count'].median())"
      ]
    },
    {
      "cell_type": "code",
      "execution_count": 23,
      "metadata": {
        "id": "o1cjCQVPCwkQ"
      },
      "outputs": [],
      "source": [
        "# Drop all missing values\n",
        "df.dropna(subset=['Minimum Android', 'Content Rating', 'Currency', 'Last Updated','App Name'], inplace=True)"
      ]
    },
    {
      "cell_type": "code",
      "execution_count": 24,
      "metadata": {
        "colab": {
          "base_uri": "https://localhost:8080/",
          "height": 679
        },
        "id": "wrjmWLmzDnDo",
        "outputId": "6833f932-45f0-4f4c-830f-bb43a3b933f1"
      },
      "outputs": [
        {
          "data": {
            "text/plain": [
              "App Name            0\n",
              "Currency            0\n",
              "In App Purchases    0\n",
              "Ad Supported        0\n",
              "Content Rating      0\n",
              "Last Updated        0\n",
              "Released            0\n",
              "Minimum Android     0\n",
              "Size_in_Mb          0\n",
              "Price               0\n",
              "App Id              0\n",
              "Free                0\n",
              "Maximum Installs    0\n",
              "Minimum Installs    0\n",
              "Installs            0\n",
              "Rating Count        0\n",
              "Rating              0\n",
              "Category            0\n",
              "Editors Choice      0\n",
              "dtype: int64"
            ]
          },
          "execution_count": 24,
          "metadata": {},
          "output_type": "execute_result"
        }
      ],
      "source": [
        "df.isnull().sum().sort_values(ascending=False)"
      ]
    },
    {
      "cell_type": "code",
      "execution_count": 25,
      "metadata": {
        "colab": {
          "base_uri": "https://localhost:8080/",
          "height": 417
        },
        "id": "_ITAXGK2DvY-",
        "outputId": "94ece6be-46ae-4600-d4ae-11958f4e09b7"
      },
      "outputs": [
        {
          "data": {
            "text/html": [
              "<div>\n",
              "<style scoped>\n",
              "    .dataframe tbody tr th:only-of-type {\n",
              "        vertical-align: middle;\n",
              "    }\n",
              "\n",
              "    .dataframe tbody tr th {\n",
              "        vertical-align: top;\n",
              "    }\n",
              "\n",
              "    .dataframe thead th {\n",
              "        text-align: right;\n",
              "    }\n",
              "</style>\n",
              "<table border=\"1\" class=\"dataframe\">\n",
              "  <thead>\n",
              "    <tr style=\"text-align: right;\">\n",
              "      <th></th>\n",
              "      <th>App Name</th>\n",
              "      <th>App Id</th>\n",
              "      <th>Category</th>\n",
              "      <th>Rating</th>\n",
              "      <th>Rating Count</th>\n",
              "      <th>Installs</th>\n",
              "      <th>Minimum Installs</th>\n",
              "      <th>Maximum Installs</th>\n",
              "      <th>Free</th>\n",
              "      <th>Price</th>\n",
              "      <th>Currency</th>\n",
              "      <th>Size_in_Mb</th>\n",
              "      <th>Minimum Android</th>\n",
              "      <th>Released</th>\n",
              "      <th>Last Updated</th>\n",
              "      <th>Content Rating</th>\n",
              "      <th>Ad Supported</th>\n",
              "      <th>In App Purchases</th>\n",
              "      <th>Editors Choice</th>\n",
              "    </tr>\n",
              "  </thead>\n",
              "  <tbody>\n",
              "    <tr>\n",
              "      <th>0</th>\n",
              "      <td>Gakondo</td>\n",
              "      <td>com.ishakwe.gakondo</td>\n",
              "      <td>Adventure</td>\n",
              "      <td>0.0</td>\n",
              "      <td>0.0</td>\n",
              "      <td>10</td>\n",
              "      <td>10.0</td>\n",
              "      <td>15</td>\n",
              "      <td>True</td>\n",
              "      <td>0.0</td>\n",
              "      <td>USD</td>\n",
              "      <td>10.0</td>\n",
              "      <td>7.1 and up</td>\n",
              "      <td>Feb 26, 2020</td>\n",
              "      <td>Feb 26, 2020</td>\n",
              "      <td>Everyone</td>\n",
              "      <td>False</td>\n",
              "      <td>False</td>\n",
              "      <td>False</td>\n",
              "    </tr>\n",
              "    <tr>\n",
              "      <th>1</th>\n",
              "      <td>Ampere Battery Info</td>\n",
              "      <td>com.webserveis.batteryinfo</td>\n",
              "      <td>Tools</td>\n",
              "      <td>4.4</td>\n",
              "      <td>64.0</td>\n",
              "      <td>5000</td>\n",
              "      <td>5000.0</td>\n",
              "      <td>7662</td>\n",
              "      <td>True</td>\n",
              "      <td>0.0</td>\n",
              "      <td>USD</td>\n",
              "      <td>2.9</td>\n",
              "      <td>5.0 and up</td>\n",
              "      <td>May 21, 2020</td>\n",
              "      <td>May 06, 2021</td>\n",
              "      <td>Everyone</td>\n",
              "      <td>True</td>\n",
              "      <td>False</td>\n",
              "      <td>False</td>\n",
              "    </tr>\n",
              "    <tr>\n",
              "      <th>2</th>\n",
              "      <td>Vibook</td>\n",
              "      <td>com.doantiepvien.crm</td>\n",
              "      <td>Productivity</td>\n",
              "      <td>0.0</td>\n",
              "      <td>0.0</td>\n",
              "      <td>50</td>\n",
              "      <td>50.0</td>\n",
              "      <td>58</td>\n",
              "      <td>True</td>\n",
              "      <td>0.0</td>\n",
              "      <td>USD</td>\n",
              "      <td>3.7</td>\n",
              "      <td>4.0.3 and up</td>\n",
              "      <td>Aug 9, 2019</td>\n",
              "      <td>Aug 19, 2019</td>\n",
              "      <td>Everyone</td>\n",
              "      <td>False</td>\n",
              "      <td>False</td>\n",
              "      <td>False</td>\n",
              "    </tr>\n",
              "    <tr>\n",
              "      <th>3</th>\n",
              "      <td>Smart City Trichy Public Service Vehicles 17UC...</td>\n",
              "      <td>cst.stJoseph.ug17ucs548</td>\n",
              "      <td>Communication</td>\n",
              "      <td>5.0</td>\n",
              "      <td>5.0</td>\n",
              "      <td>10</td>\n",
              "      <td>10.0</td>\n",
              "      <td>19</td>\n",
              "      <td>True</td>\n",
              "      <td>0.0</td>\n",
              "      <td>USD</td>\n",
              "      <td>1.8</td>\n",
              "      <td>4.0.3 and up</td>\n",
              "      <td>Sep 10, 2018</td>\n",
              "      <td>Oct 13, 2018</td>\n",
              "      <td>Everyone</td>\n",
              "      <td>True</td>\n",
              "      <td>False</td>\n",
              "      <td>False</td>\n",
              "    </tr>\n",
              "    <tr>\n",
              "      <th>4</th>\n",
              "      <td>GROW.me</td>\n",
              "      <td>com.horodyski.grower</td>\n",
              "      <td>Tools</td>\n",
              "      <td>0.0</td>\n",
              "      <td>0.0</td>\n",
              "      <td>100</td>\n",
              "      <td>100.0</td>\n",
              "      <td>478</td>\n",
              "      <td>True</td>\n",
              "      <td>0.0</td>\n",
              "      <td>USD</td>\n",
              "      <td>6.2</td>\n",
              "      <td>4.1 and up</td>\n",
              "      <td>Feb 21, 2020</td>\n",
              "      <td>Nov 12, 2018</td>\n",
              "      <td>Everyone</td>\n",
              "      <td>False</td>\n",
              "      <td>False</td>\n",
              "      <td>False</td>\n",
              "    </tr>\n",
              "  </tbody>\n",
              "</table>\n",
              "</div>"
            ],
            "text/plain": [
              "                                            App Name  \\\n",
              "0                                            Gakondo   \n",
              "1                                Ampere Battery Info   \n",
              "2                                             Vibook   \n",
              "3  Smart City Trichy Public Service Vehicles 17UC...   \n",
              "4                                            GROW.me   \n",
              "\n",
              "                       App Id       Category  Rating  Rating Count  Installs  \\\n",
              "0         com.ishakwe.gakondo      Adventure     0.0           0.0        10   \n",
              "1  com.webserveis.batteryinfo          Tools     4.4          64.0      5000   \n",
              "2        com.doantiepvien.crm   Productivity     0.0           0.0        50   \n",
              "3     cst.stJoseph.ug17ucs548  Communication     5.0           5.0        10   \n",
              "4        com.horodyski.grower          Tools     0.0           0.0       100   \n",
              "\n",
              "   Minimum Installs  Maximum Installs  Free  Price Currency  Size_in_Mb  \\\n",
              "0              10.0                15  True    0.0      USD        10.0   \n",
              "1            5000.0              7662  True    0.0      USD         2.9   \n",
              "2              50.0                58  True    0.0      USD         3.7   \n",
              "3              10.0                19  True    0.0      USD         1.8   \n",
              "4             100.0               478  True    0.0      USD         6.2   \n",
              "\n",
              "  Minimum Android      Released  Last Updated Content Rating  Ad Supported  \\\n",
              "0      7.1 and up  Feb 26, 2020  Feb 26, 2020       Everyone         False   \n",
              "1      5.0 and up  May 21, 2020  May 06, 2021       Everyone          True   \n",
              "2    4.0.3 and up   Aug 9, 2019  Aug 19, 2019       Everyone         False   \n",
              "3    4.0.3 and up  Sep 10, 2018  Oct 13, 2018       Everyone          True   \n",
              "4      4.1 and up  Feb 21, 2020  Nov 12, 2018       Everyone         False   \n",
              "\n",
              "   In App Purchases  Editors Choice  \n",
              "0             False           False  \n",
              "1             False           False  \n",
              "2             False           False  \n",
              "3             False           False  \n",
              "4             False           False  "
            ]
          },
          "execution_count": 25,
          "metadata": {},
          "output_type": "execute_result"
        }
      ],
      "source": [
        "df.head()"
      ]
    },
    {
      "cell_type": "code",
      "execution_count": 26,
      "metadata": {
        "id": "trFfjJNxHpCU"
      },
      "outputs": [],
      "source": [
        "#Dropping Unncessary columns\n",
        "df.drop(['App Name','Price','Last Updated','Released','Currency','App Id','Minimum Android'],axis=1,inplace=True)"
      ]
    },
    {
      "cell_type": "code",
      "execution_count": 27,
      "metadata": {
        "id": "KlckP9myGBkI"
      },
      "outputs": [
        {
          "data": {
            "text/html": [
              "<div>\n",
              "<style scoped>\n",
              "    .dataframe tbody tr th:only-of-type {\n",
              "        vertical-align: middle;\n",
              "    }\n",
              "\n",
              "    .dataframe tbody tr th {\n",
              "        vertical-align: top;\n",
              "    }\n",
              "\n",
              "    .dataframe thead th {\n",
              "        text-align: right;\n",
              "    }\n",
              "</style>\n",
              "<table border=\"1\" class=\"dataframe\">\n",
              "  <thead>\n",
              "    <tr style=\"text-align: right;\">\n",
              "      <th></th>\n",
              "      <th>Category</th>\n",
              "      <th>Rating</th>\n",
              "      <th>Rating Count</th>\n",
              "      <th>Installs</th>\n",
              "      <th>Minimum Installs</th>\n",
              "      <th>Maximum Installs</th>\n",
              "      <th>Free</th>\n",
              "      <th>Size_in_Mb</th>\n",
              "      <th>Content Rating</th>\n",
              "      <th>Ad Supported</th>\n",
              "      <th>In App Purchases</th>\n",
              "      <th>Editors Choice</th>\n",
              "    </tr>\n",
              "  </thead>\n",
              "  <tbody>\n",
              "    <tr>\n",
              "      <th>0</th>\n",
              "      <td>Adventure</td>\n",
              "      <td>0.0</td>\n",
              "      <td>0.0</td>\n",
              "      <td>10</td>\n",
              "      <td>10.0</td>\n",
              "      <td>15</td>\n",
              "      <td>True</td>\n",
              "      <td>10.0</td>\n",
              "      <td>Everyone</td>\n",
              "      <td>False</td>\n",
              "      <td>False</td>\n",
              "      <td>False</td>\n",
              "    </tr>\n",
              "    <tr>\n",
              "      <th>1</th>\n",
              "      <td>Tools</td>\n",
              "      <td>4.4</td>\n",
              "      <td>64.0</td>\n",
              "      <td>5000</td>\n",
              "      <td>5000.0</td>\n",
              "      <td>7662</td>\n",
              "      <td>True</td>\n",
              "      <td>2.9</td>\n",
              "      <td>Everyone</td>\n",
              "      <td>True</td>\n",
              "      <td>False</td>\n",
              "      <td>False</td>\n",
              "    </tr>\n",
              "    <tr>\n",
              "      <th>2</th>\n",
              "      <td>Productivity</td>\n",
              "      <td>0.0</td>\n",
              "      <td>0.0</td>\n",
              "      <td>50</td>\n",
              "      <td>50.0</td>\n",
              "      <td>58</td>\n",
              "      <td>True</td>\n",
              "      <td>3.7</td>\n",
              "      <td>Everyone</td>\n",
              "      <td>False</td>\n",
              "      <td>False</td>\n",
              "      <td>False</td>\n",
              "    </tr>\n",
              "    <tr>\n",
              "      <th>3</th>\n",
              "      <td>Communication</td>\n",
              "      <td>5.0</td>\n",
              "      <td>5.0</td>\n",
              "      <td>10</td>\n",
              "      <td>10.0</td>\n",
              "      <td>19</td>\n",
              "      <td>True</td>\n",
              "      <td>1.8</td>\n",
              "      <td>Everyone</td>\n",
              "      <td>True</td>\n",
              "      <td>False</td>\n",
              "      <td>False</td>\n",
              "    </tr>\n",
              "    <tr>\n",
              "      <th>4</th>\n",
              "      <td>Tools</td>\n",
              "      <td>0.0</td>\n",
              "      <td>0.0</td>\n",
              "      <td>100</td>\n",
              "      <td>100.0</td>\n",
              "      <td>478</td>\n",
              "      <td>True</td>\n",
              "      <td>6.2</td>\n",
              "      <td>Everyone</td>\n",
              "      <td>False</td>\n",
              "      <td>False</td>\n",
              "      <td>False</td>\n",
              "    </tr>\n",
              "  </tbody>\n",
              "</table>\n",
              "</div>"
            ],
            "text/plain": [
              "        Category  Rating  Rating Count  Installs  Minimum Installs  \\\n",
              "0      Adventure     0.0           0.0        10              10.0   \n",
              "1          Tools     4.4          64.0      5000            5000.0   \n",
              "2   Productivity     0.0           0.0        50              50.0   \n",
              "3  Communication     5.0           5.0        10              10.0   \n",
              "4          Tools     0.0           0.0       100             100.0   \n",
              "\n",
              "   Maximum Installs  Free  Size_in_Mb Content Rating  Ad Supported  \\\n",
              "0                15  True        10.0       Everyone         False   \n",
              "1              7662  True         2.9       Everyone          True   \n",
              "2                58  True         3.7       Everyone         False   \n",
              "3                19  True         1.8       Everyone          True   \n",
              "4               478  True         6.2       Everyone         False   \n",
              "\n",
              "   In App Purchases  Editors Choice  \n",
              "0             False           False  \n",
              "1             False           False  \n",
              "2             False           False  \n",
              "3             False           False  \n",
              "4             False           False  "
            ]
          },
          "execution_count": 27,
          "metadata": {},
          "output_type": "execute_result"
        }
      ],
      "source": [
        "df.head()"
      ]
    },
    {
      "cell_type": "markdown",
      "metadata": {},
      "source": [
        "\n",
        "from sklearn.model_selection import train_test_split\n",
        "from sklearn.ensemble import RandomForestRegressor\n",
        "from sklearn.metrics import mean_squared_error\n",
        "\n",
        "X = df.drop('Installs', axis=1)\n",
        "y = df['Installs']\n",
        "\n",
        "# one-hot encoding\n",
        "X = pd.get_dummies(X, columns=['Category','Minimum Android','Content Rating'])\n",
        "\n",
        "X_train, X_test, y_train, y_test = train_test_split(X, y, test_size=0.2, random_state=42)\n",
        "\n",
        "model = RandomForestRegressor(n_estimators=100, random_state=7)\n",
        "model.fit(X_train, y_train)\n",
        "\n",
        "importances = model.feature_importances_\n",
        "\n",
        "feature_importances_df = pd.DataFrame({'Feature': X_train.columns, 'Importance': importances})\n",
        "feature_importances_df = feature_importances_df.sort_values(by='Importance', ascending=False)\n",
        "\n",
        "feature_importances_d"
      ]
    },
    {
      "cell_type": "code",
      "execution_count": 28,
      "metadata": {},
      "outputs": [],
      "source": [
        "\n",
        "from sklearn.model_selection import train_test_split\n",
        "from sklearn.ensemble import RandomForestRegressor\n",
        "from sklearn.metrics import mean_squared_error\n",
        "\n",
        "X = df.drop('Installs', axis=1)\n",
        "y = df['Installs']\n",
        "\n",
        "# one-hot encoding\n",
        "X = pd.get_dummies(X, columns=['Category','Content Rating','Ad Supported','Editors Choice'])\n",
        "\n",
        "X_train, X_test, y_train, y_test = train_test_split(X, y, test_size=0.2, random_state=42)\n",
        "\n",
        "model = RandomForestRegressor(n_estimators=100, random_state=7)\n",
        "model.fit(X_train, y_train)\n",
        "\n",
        "importances = model.feature_importances_\n",
        "\n",
        "feature_importances_df = pd.DataFrame({'Feature': X_train.columns, 'Importance': importances})\n",
        "feature_importances_df = feature_importances_df.sort_values(by='Importance', ascending=False)\n",
        "\n",
        "feature_importances_df"
      ]
    },
    {
      "cell_type": "code",
      "execution_count": null,
      "metadata": {},
      "outputs": [
        {
          "data": {
            "text/html": [
              "<div>\n",
              "<style scoped>\n",
              "    .dataframe tbody tr th:only-of-type {\n",
              "        vertical-align: middle;\n",
              "    }\n",
              "\n",
              "    .dataframe tbody tr th {\n",
              "        vertical-align: top;\n",
              "    }\n",
              "\n",
              "    .dataframe thead th {\n",
              "        text-align: right;\n",
              "    }\n",
              "</style>\n",
              "<table border=\"1\" class=\"dataframe\">\n",
              "  <thead>\n",
              "    <tr style=\"text-align: right;\">\n",
              "      <th></th>\n",
              "      <th>Feature</th>\n",
              "      <th>Importance</th>\n",
              "    </tr>\n",
              "  </thead>\n",
              "  <tbody>\n",
              "    <tr>\n",
              "      <th>2</th>\n",
              "      <td>Minimum Installs</td>\n",
              "      <td>5.155015e-01</td>\n",
              "    </tr>\n",
              "    <tr>\n",
              "      <th>3</th>\n",
              "      <td>Maximum Installs</td>\n",
              "      <td>4.844985e-01</td>\n",
              "    </tr>\n",
              "    <tr>\n",
              "      <th>62</th>\n",
              "      <td>Editors Choice_False</td>\n",
              "      <td>8.101597e-13</td>\n",
              "    </tr>\n",
              "    <tr>\n",
              "      <th>0</th>\n",
              "      <td>Rating</td>\n",
              "      <td>5.330528e-13</td>\n",
              "    </tr>\n",
              "    <tr>\n",
              "      <th>19</th>\n",
              "      <td>Category_Communication</td>\n",
              "      <td>4.883272e-13</td>\n",
              "    </tr>\n",
              "    <tr>\n",
              "      <th>61</th>\n",
              "      <td>Ad Supported_True</td>\n",
              "      <td>4.543426e-13</td>\n",
              "    </tr>\n",
              "    <tr>\n",
              "      <th>49</th>\n",
              "      <td>Category_Travel &amp; Local</td>\n",
              "      <td>3.019354e-13</td>\n",
              "    </tr>\n",
              "    <tr>\n",
              "      <th>38</th>\n",
              "      <td>Category_Photography</td>\n",
              "      <td>2.531793e-13</td>\n",
              "    </tr>\n",
              "    <tr>\n",
              "      <th>60</th>\n",
              "      <td>Ad Supported_False</td>\n",
              "      <td>2.424191e-13</td>\n",
              "    </tr>\n",
              "    <tr>\n",
              "      <th>48</th>\n",
              "      <td>Category_Tools</td>\n",
              "      <td>2.291558e-13</td>\n",
              "    </tr>\n",
              "    <tr>\n",
              "      <th>39</th>\n",
              "      <td>Category_Productivity</td>\n",
              "      <td>2.210667e-13</td>\n",
              "    </tr>\n",
              "    <tr>\n",
              "      <th>1</th>\n",
              "      <td>Rating Count</td>\n",
              "      <td>2.141312e-13</td>\n",
              "    </tr>\n",
              "    <tr>\n",
              "      <th>58</th>\n",
              "      <td>Content Rating_Teen</td>\n",
              "      <td>1.892252e-13</td>\n",
              "    </tr>\n",
              "    <tr>\n",
              "      <th>55</th>\n",
              "      <td>Content Rating_Everyone</td>\n",
              "      <td>1.719013e-13</td>\n",
              "    </tr>\n",
              "    <tr>\n",
              "      <th>63</th>\n",
              "      <td>Editors Choice_True</td>\n",
              "      <td>1.485114e-13</td>\n",
              "    </tr>\n",
              "    <tr>\n",
              "      <th>45</th>\n",
              "      <td>Category_Social</td>\n",
              "      <td>1.271910e-13</td>\n",
              "    </tr>\n",
              "    <tr>\n",
              "      <th>15</th>\n",
              "      <td>Category_Card</td>\n",
              "      <td>0.000000e+00</td>\n",
              "    </tr>\n",
              "    <tr>\n",
              "      <th>40</th>\n",
              "      <td>Category_Puzzle</td>\n",
              "      <td>0.000000e+00</td>\n",
              "    </tr>\n",
              "    <tr>\n",
              "      <th>42</th>\n",
              "      <td>Category_Role Playing</td>\n",
              "      <td>0.000000e+00</td>\n",
              "    </tr>\n",
              "    <tr>\n",
              "      <th>43</th>\n",
              "      <td>Category_Shopping</td>\n",
              "      <td>0.000000e+00</td>\n",
              "    </tr>\n",
              "    <tr>\n",
              "      <th>44</th>\n",
              "      <td>Category_Simulation</td>\n",
              "      <td>0.000000e+00</td>\n",
              "    </tr>\n",
              "  </tbody>\n",
              "</table>\n",
              "</div>"
            ],
            "text/plain": [
              "                    Feature    Importance\n",
              "2          Minimum Installs  5.155015e-01\n",
              "3          Maximum Installs  4.844985e-01\n",
              "62     Editors Choice_False  8.101597e-13\n",
              "0                    Rating  5.330528e-13\n",
              "19   Category_Communication  4.883272e-13\n",
              "61        Ad Supported_True  4.543426e-13\n",
              "49  Category_Travel & Local  3.019354e-13\n",
              "38     Category_Photography  2.531793e-13\n",
              "60       Ad Supported_False  2.424191e-13\n",
              "48           Category_Tools  2.291558e-13\n",
              "39    Category_Productivity  2.210667e-13\n",
              "1              Rating Count  2.141312e-13\n",
              "58      Content Rating_Teen  1.892252e-13\n",
              "55  Content Rating_Everyone  1.719013e-13\n",
              "63      Editors Choice_True  1.485114e-13\n",
              "45          Category_Social  1.271910e-13\n",
              "15            Category_Card  0.000000e+00\n",
              "40          Category_Puzzle  0.000000e+00\n",
              "42    Category_Role Playing  0.000000e+00\n",
              "43        Category_Shopping  0.000000e+00\n",
              "44      Category_Simulation  0.000000e+00"
            ]
          },
          "execution_count": 28,
          "metadata": {},
          "output_type": "execute_result"
        }
      ],
      "source": [
        "feature_importances_df.head(21)"
      ]
    },
    {
      "cell_type": "code",
      "execution_count": null,
      "metadata": {},
      "outputs": [
        {
          "name": "stdout",
          "output_type": "stream",
          "text": [
            "<class 'sklearn.linear_model._ridge.Ridge'>\n"
          ]
        }
      ],
      "source": [
        "selected_columns = [ 'Size_in_Mb', 'Rating']\n",
        "\n",
        "X = df.loc[:,selected_columns]\n",
        "Y = df['Installs']\n",
        "\n",
        "from sklearn.linear_model import Ridge\n",
        "regressor = Ridge(alpha=0.1, max_iter=100 , random_state=7)\n",
        "regressor.fit(X,Y)\n",
        "\n",
        "import pickle\n",
        "pickle.dump(regressor, open(\"model.pkl\",\"wb\"))\n",
        "\n",
        "# verify the stored pickle\n",
        "model = pickle.load(open(\"model.pkl\",\"rb\"))\n",
        "print(model.__class__)\n",
        "\n"
      ]
    },
    {
      "cell_type": "code",
      "execution_count": null,
      "metadata": {},
      "outputs": [
        {
          "data": {
            "text/plain": [
              "array([0. , 4.4, 5. , 4.5, 2. , 4.7, 4.9, 3.9, 3.7, 4.2, 3.4, 3.8, 4.6,\n",
              "       4.1, 2.5, 2.3, 2.1, 2.7, 4.3, 3.1, 4.8, 3.3, 4. , 2.4, 3.2, 3.6,\n",
              "       2.6, 2.9, 1.5, 3.5, 1.3, 2.8, 3. , 2.2, 1.8, 1.2, 1.9, 1.7, 1.4,\n",
              "       1.6, 1. , 1.1])"
            ]
          },
          "execution_count": 94,
          "metadata": {},
          "output_type": "execute_result"
        }
      ],
      "source": [
        "df['Rating'].unique()"
      ]
    },
    {
      "cell_type": "code",
      "execution_count": null,
      "metadata": {},
      "outputs": [],
      "source": []
    }
  ],
  "metadata": {
    "colab": {
      "provenance": []
    },
    "kernelspec": {
      "display_name": "Python 3",
      "name": "python3"
    },
    "language_info": {
      "codemirror_mode": {
        "name": "ipython",
        "version": 3
      },
      "file_extension": ".py",
      "mimetype": "text/x-python",
      "name": "python",
      "nbconvert_exporter": "python",
      "pygments_lexer": "ipython3",
      "version": "3.11.4"
    }
  },
  "nbformat": 4,
  "nbformat_minor": 0
}
